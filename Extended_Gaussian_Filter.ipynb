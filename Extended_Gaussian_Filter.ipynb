{
 "cells": [
  {
   "cell_type": "code",
   "execution_count": 1,
   "id": "5cda9a04",
   "metadata": {},
   "outputs": [],
   "source": [
    "import cv2"
   ]
  },
  {
   "cell_type": "code",
   "execution_count": 2,
   "id": "dc810e13",
   "metadata": {},
   "outputs": [],
   "source": [
    "import numpy as np"
   ]
  },
  {
   "cell_type": "code",
   "execution_count": 7,
   "id": "f20bbb9b",
   "metadata": {},
   "outputs": [],
   "source": [
    "def apply_dog_filter(image, blur_size=(0,0), k_factor=1.6, sigma_value=0.5, gamma_value=1):\n",
    "    blurred_image_1 = cv2.GaussianBlur(image, blur_size, sigma_value)\n",
    "    blurred_image_2 = cv2.GaussianBlur(image, blur_size, sigma_value * k_factor)\n",
    "    return (blurred_image_1 - gamma_value * blurred_image_2)"
   ]
  },
  {
   "cell_type": "code",
   "execution_count": 8,
   "id": "188e634d",
   "metadata": {},
   "outputs": [],
   "source": [
    "def apply_xdog_filter(image, sigma_value=0.5, k_factor=1.6, gamma_value=1, threshold=1, sharpness=1):\n",
    "    dog_output = apply_dog_filter(image, sigma_value=sigma_value, k_factor=k_factor, gamma_value=gamma_value) / 255\n",
    "    xdog_result = np.zeros_like(dog_output)\n",
    "    for row in range(dog_output.shape[0]):\n",
    "        for col in range(dog_output.shape[1]):\n",
    "            if dog_output[row, col] < threshold:\n",
    "                dog_output[row, col] = 255\n",
    "            else:\n",
    "                dog_output[row, col] = 255 * (1 + np.tanh(sharpness * (dog_output[row, col])))\n",
    "    return dog_output"
   ]
  },
  {
   "cell_type": "code",
   "execution_count": 9,
   "id": "9db54197",
   "metadata": {},
   "outputs": [],
   "source": [
    "def convert_to_line_art(original_image, sigma_value=0.8, k_factor=5, gamma_value=0.95, epsilon=-1, phi=10e15, min_area=2):\n",
    "    img_cnts = []\n",
    "    grayscale_image = cv2.cvtColor(np.array(original_image), cv2.COLOR_RGB2GRAY)\n",
    "    xdog_image = apply_xdog_filter(grayscale_image, sigma_value=sigma_value, k_factor=k_factor, gamma_value=gamma_value, threshold=epsilon, sharpness=phi).astype(np.uint8)\n",
    "    blank_canvas = np.zeros_like(xdog_image)\n",
    "    binary_thresh = cv2.threshold(xdog_image, 0, 255, cv2.THRESH_BINARY_INV | cv2.THRESH_OTSU)[1]\n",
    "    contours = cv2.findContours(binary_thresh, cv2.RETR_TREE, cv2.CHAIN_APPROX_SIMPLE)\n",
    "    contours = contours[0] if len(contours) == 2 else contours[1]\n",
    "    for contour in contours:\n",
    "        if cv2.contourArea(contour) > min_area:\n",
    "            img_cnts.append(contour)\n",
    "\n",
    "    return Image.fromarray(255 - cv2.drawContours(blank_canvas, img_cnts, -1, (255,255,255), -1))"
   ]
  },
  {
   "cell_type": "code",
   "execution_count": 11,
   "id": "68fd8a48",
   "metadata": {},
   "outputs": [],
   "source": [
    "import cv2\n",
    "from PIL import Image\n"
   ]
  },
  {
   "cell_type": "code",
   "execution_count": 12,
   "id": "bffdd2c7",
   "metadata": {},
   "outputs": [],
   "source": [
    "def to_gray(image_path):\n",
    "    \n",
    "    img = cv2.imread(image_path)\n",
    "\n",
    "    # Convert from BGR to RGB\n",
    "    img_rgb = cv2.cvtColor(img, cv2.COLOR_BGR2RGB)\n",
    "\n",
    "    # Convert to PIL Image\n",
    "    img_pil = Image.fromarray(img)\n",
    "\n",
    "    # Assuming 'to_sketch' is a function you have defined to convert the image to a sketch\n",
    "    sketch_result = convert_to_line_art(img_pil)\n",
    "    \n",
    "    return sketch_result"
   ]
  },
  {
   "cell_type": "code",
   "execution_count": 15,
   "id": "52c2663f",
   "metadata": {},
   "outputs": [
    {
     "name": "stdout",
     "output_type": "stream",
     "text": [
      "Conversion completed and saved to linearts/\n"
     ]
    }
   ],
   "source": [
    "import os\n",
    "import cv2\n",
    "\n",
    "dataset_path = \"DATASET/\"\n",
    "output_path = \"linearts/\"\n",
    "\n",
    "# Create the output directory if it doesn't exist\n",
    "if not os.path.exists(output_path):\n",
    "    os.makedirs(output_path)\n",
    "\n",
    "# Iterate over all image files in the dataset directory\n",
    "for filename in os.listdir(dataset_path):\n",
    "    if filename.lower().endswith((\".png\", \".jpg\", \".jpeg\")):  # Check if the file is an image\n",
    "        # Construct the full path to the image file\n",
    "        image_path = os.path.join(dataset_path, filename)\n",
    "        \n",
    "        # Convert the image to a sketch\n",
    "        sketch_result = to_gray(image_path)\n",
    "        \n",
    "        # Construct the output filename and path\n",
    "        output_filename = os.path.splitext(filename)[0] + \".jpg\"  # Change extension to .jpg\n",
    "        output_file_path = os.path.join(output_path, output_filename)\n",
    "        \n",
    "        # Save the result\n",
    "        sketch_result.save(output_file_path)\n",
    "\n",
    "print(\"Conversion completed and saved to\", output_path)\n"
   ]
  },
  {
   "cell_type": "code",
   "execution_count": null,
   "id": "69552372",
   "metadata": {},
   "outputs": [],
   "source": []
  }
 ],
 "metadata": {
  "kernelspec": {
   "display_name": "Python 3 (ipykernel)",
   "language": "python",
   "name": "python3"
  },
  "language_info": {
   "codemirror_mode": {
    "name": "ipython",
    "version": 3
   },
   "file_extension": ".py",
   "mimetype": "text/x-python",
   "name": "python",
   "nbconvert_exporter": "python",
   "pygments_lexer": "ipython3",
   "version": "3.9.12"
  }
 },
 "nbformat": 4,
 "nbformat_minor": 5
}
